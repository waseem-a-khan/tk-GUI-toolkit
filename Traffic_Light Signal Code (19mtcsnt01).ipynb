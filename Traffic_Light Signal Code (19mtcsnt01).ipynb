{
 "cells": [
  {
   "cell_type": "markdown",
   "metadata": {},
   "source": [
    "# Implementation of Traffic light Signal using Python \n",
    "\n",
    "Please read the Note below."
   ]
  },
  {
   "cell_type": "markdown",
   "metadata": {},
   "source": [
    "@ Waseem Akram Khan\n",
    "Roll No. 19mtcsnt01\n",
    "\n",
    "In the below code i try to implement the concept of traffic light signal using python code. first of all we need to understand the concept of Traffic light signal in india\n",
    "\"Traffic lights (or traffic signals) are lights used to control the movement of traffic. They are placed on roads at intersections and crossings. The different colors of lights tell drivers what to do\". It follow the one cycle for every crossing the cycle as follow:\n",
    "\n",
    "Red Light on: This tells drivers to stop\n",
    "Green Light on: This means the driver can start driving or keep driving.\n",
    "Yellow Light on: This tells drivers to stop when it is safe to, because the light is about to turn red.\n",
    "Traffic lights change their colors in the same order every time and we can see the image for this cycle.\n",
    "\n",
    "\n",
    "Note: The Program will automatically terminate after 1 minute 40 seconds if we terminate forcely then we will get termination error.\n"
   ]
  },
  {
   "cell_type": "code",
   "execution_count": null,
   "metadata": {},
   "outputs": [],
   "source": [
    "#@ Waseem Akram Khan (19mtcsnt01)\n",
    "#Day & Date: Tuesday, 14/04/2020\n",
    "\n",
    "import time\n",
    "from time import sleep\n",
    "from tkinter import *\n",
    "tk=Tk()\n",
    "t_end = time.time() + 10 * 10\n",
    "can_widgt=Canvas(tk, width=750, height=1000)  #can_widgt is an object \n",
    "can_widgt.pack()\n",
    "can_widgt.create_rectangle(300,50,440,450, fill='grey', outline='black')\n",
    "can_widgt.create_rectangle(365,450,375,800, fill='grey', outline='black')\n",
    "#functions\n",
    "def red_light(a):\n",
    "    for i in range(a):\n",
    "        red=can_widgt.create_oval(320,70,420,170, fill=\"red\")\n",
    "        tk.update()\n",
    "        time.sleep(0.9)\n",
    "def red_black(a):\n",
    "    for i in range(a):\n",
    "        red=can_widgt.create_oval(320,70,420,170, fill=\"black\")\n",
    "        tk.update()\n",
    "        time.sleep(0.9)\n",
    "def yellow_light(a):\n",
    "    for i in range(a):\n",
    "        amber=can_widgt.create_oval(320,200,420,300, fill=\"yellow\")\n",
    "        tk.update()\n",
    "        time.sleep(0.3)\n",
    "def yellow_black(a): \n",
    "    for i in range(a):\n",
    "        amber=can_widgt.create_oval(320,200,420,300, fill=\"black\")\n",
    "        tk.update()\n",
    "        time.sleep(0.3)\n",
    "def green_light(a):\n",
    "    for i in range(a):\n",
    "        green=can_widgt.create_oval(320,330,420,430, fill=\"green\")\n",
    "        tk.update()\n",
    "        time.sleep(0.3)\n",
    "def green_black(a):\n",
    "    for i in range(a):\n",
    "        green=can_widgt.create_oval(320,330,420,430, fill=\"black\")\n",
    "        tk.update()\n",
    "        time.sleep(0.3)\n",
    "def light_blink():\n",
    "    red=can_widgt.create_oval(320,70,420,170, fill=\"black\")\n",
    "    green=can_widgt.create_oval(320,330,420,430, fill=\"black\")\n",
    "    amber=can_widgt.create_oval(320,200,420,300, fill =\"black\")\n",
    "#Here, the working of fuction ends\n",
    "#Calling of the every fuctions starts here\n",
    "\n",
    "light_blink()\n",
    "while time.time() < t_end:\n",
    "    red_light(15)\n",
    "    red_black(1)\n",
    "    green_light(30)\n",
    "    green_black(1)\n",
    "    yellow_light(10)\n",
    "    yellow_black(1)\n",
    "\n",
    "tk.mainloop()"
   ]
  },
  {
   "cell_type": "code",
   "execution_count": null,
   "metadata": {},
   "outputs": [],
   "source": []
  },
  {
   "cell_type": "code",
   "execution_count": null,
   "metadata": {},
   "outputs": [],
   "source": []
  }
 ],
 "metadata": {
  "kernelspec": {
   "display_name": "Python 3",
   "language": "python",
   "name": "python3"
  },
  "language_info": {
   "codemirror_mode": {
    "name": "ipython",
    "version": 3
   },
   "file_extension": ".py",
   "mimetype": "text/x-python",
   "name": "python",
   "nbconvert_exporter": "python",
   "pygments_lexer": "ipython3",
   "version": "3.7.4"
  }
 },
 "nbformat": 4,
 "nbformat_minor": 2
}
